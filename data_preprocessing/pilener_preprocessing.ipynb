{
 "cells": [
  {
   "cell_type": "code",
   "execution_count": 1,
   "id": "c8c7223c279299bf",
   "metadata": {
    "ExecuteTime": {
     "end_time": "2025-06-12T19:59:18.534422Z",
     "start_time": "2025-06-12T19:58:54.195398Z"
    }
   },
   "outputs": [],
   "source": [
    "import pandas as pd\n",
    "df_train = pd.read_json(\"../data/pilener/pilener_train.json\")\n",
    "\n",
    "# -------------------------------------------------------------------\n",
    "# Counting Number of Occurences per Label\n",
    "# -------------------------------------------------------------------\n",
    "from collections import Counter\n",
    "\n",
    "label_counter = Counter()\n",
    "for idx, entry in df_train.iterrows():\n",
    "    \n",
    "    ner_string = entry.ner\n",
    "    for annotation in ner_string:\n",
    "        if len(annotation) >= 3:\n",
    "            label = annotation[2]\n",
    "            label_lower = label.lower()\n",
    "            label_counter[label_lower] += 1\n",
    "            \n",
    "# -------------------------------------------------------------------\n",
    "# DataFrame Creation\n",
    "# -------------------------------------------------------------------\n",
    "df = pd.DataFrame.from_dict(label_counter, orient='index', columns=[\"count\"]).reset_index().rename(columns={\"index\": \"label\"})"
   ]
  },
  {
   "cell_type": "code",
   "execution_count": 2,
   "id": "81096507f26ddd03",
   "metadata": {
    "ExecuteTime": {
     "end_time": "2025-06-12T19:59:30.525220Z",
     "start_time": "2025-06-12T19:59:18.534422Z"
    }
   },
   "outputs": [
    {
     "name": "stderr",
     "output_type": "stream",
     "text": [
      "C:\\Users\\brk.ch\\AppData\\Roaming\\Python\\Python312\\site-packages\\tqdm\\auto.py:21: TqdmWarning: IProgress not found. Please update jupyter and ipywidgets. See https://ipywidgets.readthedocs.io/en/stable/user_install.html\n",
      "  from .autonotebook import tqdm as notebook_tqdm\n",
      "C:\\Users\\brk.ch\\AppData\\Roaming\\Python\\Python312\\site-packages\\triton\\windows_utils.py:372: UserWarning: Failed to find CUDA.\n",
      "  warnings.warn(\"Failed to find CUDA.\")\n"
     ]
    }
   ],
   "source": [
    "import numpy as np\n",
    "import pandas as pd\n",
    "from FlagEmbedding import FlagModel\n",
    "from sklearn.metrics.pairwise import cosine_similarity\n",
    "from tqdm import tqdm\n",
    "import pickle\n",
    "import warnings\n",
    "import logging\n",
    "import os\n",
    "\n",
    "warnings.filterwarnings('ignore')\n",
    "os.environ['TRANSFORMERS_VERBOSITY'] = 'error'\n",
    "os.environ['TF_CPP_MIN_LOG_LEVEL'] = '3'\n",
    "logging.getLogger('transformers').setLevel(logging.ERROR)\n",
    "logging.getLogger('FlagEmbedding').setLevel(logging.ERROR)\n",
    "\n",
    "# -------------------------------------------------------------------\n",
    "# Consolidating NER Labels\n",
    "# -------------------------------------------------------------------\n",
    "def consolidate_ner_labels(df: pd.DataFrame, \n",
    "                           min_count_threshold: int = 50, \n",
    "                           similarity_threshold: float = 0.9, \n",
    "                           batch_size: int = 1024, \n",
    "                           save_embeddings: bool =True):\n",
    "    \"\"\"\n",
    "    Consolidate rare NER labels by mapping them to semantically similar frequent labels.\n",
    "\n",
    "    Args:\n",
    "        df: DataFrame with columns 'label' and 'count'\n",
    "        min_count_threshold: Minimum count for a label to be considered frequent (default: 50)\n",
    "        similarity_threshold: Minimum cosine similarity for mapping (default: 0.9)\n",
    "        batch_size: Batch size for embedding computation (default: 512)\n",
    "        save_embeddings: Whether to save embeddings to disk for reuse (default: True)\n",
    "\n",
    "    Returns:\n",
    "        dict: Mapping from rare labels to frequent labels\n",
    "    \"\"\"\n",
    "\n",
    "    print(\"Loading BGE-en-large model...\")\n",
    "    model = FlagModel('BAAI/bge-large-en-v1.5', \n",
    "                      query_instruction_for_retrieval=\"Represent this entity type for semantic similarity search: \",\n",
    "                      use_fp16=True)\n",
    "\n",
    "    frequent_labels = df[df['count'] > min_count_threshold]['label'].tolist()\n",
    "    rare_labels = df[df['count'] <= min_count_threshold]['label'].tolist()\n",
    "\n",
    "    print(f\"Frequent labels (>{min_count_threshold}): {len(frequent_labels)}\")\n",
    "    print(f\"Rare labels (<=1): {len(rare_labels)}\")\n",
    "\n",
    "    print(\"\\nComputing embeddings for frequent labels...\")\n",
    "    frequent_embeddings = []\n",
    "\n",
    "    for i in tqdm(range(0, len(frequent_labels), batch_size)):\n",
    "        batch = frequent_labels[i:i+batch_size]\n",
    "        embeddings = model.encode(batch)\n",
    "        frequent_embeddings.extend(embeddings)\n",
    "\n",
    "    frequent_embeddings = np.array(frequent_embeddings)\n",
    "\n",
    "    if save_embeddings:\n",
    "        np.save('frequent_label_embeddings.npy', frequent_embeddings)\n",
    "        with open('frequent_labels.pkl', 'wb') as f:\n",
    "            pickle.dump(frequent_labels, f)\n",
    "        print(\"Saved frequent label embeddings to disk\")\n",
    "\n",
    "    rename_dict = {}\n",
    "    processed = 0\n",
    "\n",
    "    print(f\"\\nProcessing {len(rare_labels)} rare labels...\")\n",
    "\n",
    "    for i in tqdm(range(0, len(rare_labels), batch_size)):\n",
    "        batch_rare = rare_labels[i:i+batch_size]\n",
    "\n",
    "        rare_embeddings = model.encode(batch_rare)\n",
    "\n",
    "        similarities = cosine_similarity(rare_embeddings, frequent_embeddings)\n",
    "\n",
    "        for j, rare_label in enumerate(batch_rare):\n",
    "            max_sim_idx = np.argmax(similarities[j])\n",
    "            max_sim = similarities[j][max_sim_idx]\n",
    "\n",
    "            if max_sim >= similarity_threshold:\n",
    "                best_match = frequent_labels[max_sim_idx]\n",
    "                rename_dict[rare_label] = best_match\n",
    "\n",
    "                if processed < 10 or processed % 1000 == 0:\n",
    "                    print(f\"  '{rare_label}' -> '{best_match}' (similarity: {max_sim:.3f})\")\n",
    "\n",
    "            processed += 1\n",
    "\n",
    "    print(f\"\\nTotal mappings created: {len(rename_dict)} out of {len(rare_labels)} rare labels\")\n",
    "    print(f\"Mapping rate: {len(rename_dict)/len(rare_labels)*100:.1f}%\")\n",
    "\n",
    "    return rename_dict"
   ]
  },
  {
   "cell_type": "code",
   "execution_count": 3,
   "id": "b16fc889a523f8bb",
   "metadata": {
    "ExecuteTime": {
     "end_time": "2025-06-12T20:01:42.590896Z",
     "start_time": "2025-06-12T19:59:31.376898Z"
    }
   },
   "outputs": [
    {
     "name": "stdout",
     "output_type": "stream",
     "text": [
      "Loading BGE-en-large model...\n",
      "Frequent labels (>10): 2340\n",
      "Rare labels (<=1): 10280\n",
      "\n",
      "Computing embeddings for frequent labels...\n"
     ]
    },
    {
     "name": "stderr",
     "output_type": "stream",
     "text": [
      "  0%|          | 0/3 [00:00<?, ?it/s]\n",
      "pre tokenize: 100%|██████████| 4/4 [00:00<00:00, 235.34it/s]\n",
      "\n",
      "\u001B[Aerence Embeddings:   0%|          | 0/4 [00:00<?, ?it/s]\n",
      "\u001B[Aerence Embeddings:  25%|██▌       | 1/4 [00:00<00:00,  7.55it/s]\n",
      "\u001B[Aerence Embeddings:  50%|█████     | 2/4 [00:00<00:00,  7.34it/s]\n",
      "Inference Embeddings: 100%|██████████| 4/4 [00:00<00:00,  8.64it/s]\n",
      " 33%|███▎      | 1/3 [00:03<00:06,  3.12s/it]\n",
      "pre tokenize: 100%|██████████| 4/4 [00:00<00:00, 200.01it/s]\n",
      "\n",
      "\u001B[Aerence Embeddings:   0%|          | 0/4 [00:00<?, ?it/s]\n",
      "\u001B[Aerence Embeddings:  25%|██▌       | 1/4 [00:01<00:03,  1.09s/it]\n",
      "\u001B[Aerence Embeddings:  50%|█████     | 2/4 [00:01<00:01,  1.64it/s]\n",
      "\u001B[Aerence Embeddings:  75%|███████▌  | 3/4 [00:01<00:00,  2.31it/s]\n",
      "Inference Embeddings: 100%|██████████| 4/4 [00:01<00:00,  2.28it/s]\n",
      " 67%|██████▋   | 2/3 [00:04<00:02,  2.38s/it]\n",
      "pre tokenize: 100%|██████████| 2/2 [00:00<00:00, 333.34it/s]\n",
      "\n",
      "\u001B[Aerence Embeddings:   0%|          | 0/2 [00:00<?, ?it/s]\n",
      "Inference Embeddings: 100%|██████████| 2/2 [00:00<00:00,  2.19it/s]\n",
      "100%|██████████| 3/3 [00:05<00:00,  2.00s/it]\n"
     ]
    },
    {
     "name": "stdout",
     "output_type": "stream",
     "text": [
      "Saved frequent label embeddings to disk\n",
      "\n",
      "Processing 10280 rare labels...\n"
     ]
    },
    {
     "name": "stderr",
     "output_type": "stream",
     "text": [
      "  0%|          | 0/11 [00:00<?, ?it/s]\n",
      "pre tokenize: 100%|██████████| 4/4 [00:00<00:00, 444.68it/s]\n",
      "\n",
      "\u001B[Aerence Embeddings:   0%|          | 0/4 [00:00<?, ?it/s]\n",
      "\u001B[Aerence Embeddings:  25%|██▌       | 1/4 [00:00<00:02,  1.18it/s]\n",
      "\u001B[Aerence Embeddings:  50%|█████     | 2/4 [00:01<00:00,  2.19it/s]\n",
      "\u001B[Aerence Embeddings:  75%|███████▌  | 3/4 [00:01<00:00,  2.98it/s]\n",
      "Inference Embeddings: 100%|██████████| 4/4 [00:01<00:00,  2.84it/s]\n",
      "  9%|▉         | 1/11 [00:01<00:15,  1.52s/it]"
     ]
    },
    {
     "name": "stdout",
     "output_type": "stream",
     "text": [
      "  'musicgroup' -> 'music group' (similarity: 0.976)\n",
      "  'protein motif' -> 'motif' (similarity: 0.855)\n",
      "  'judicial district' -> 'district' (similarity: 0.822)\n",
      "  'app_name' -> 'package_name' (similarity: 0.814)\n"
     ]
    },
    {
     "name": "stderr",
     "output_type": "stream",
     "text": [
      "\n",
      "pre tokenize: 100%|██████████| 4/4 [00:00<00:00, 500.13it/s]\n",
      "\n",
      "\u001B[Aerence Embeddings:   0%|          | 0/4 [00:00<?, ?it/s]\n",
      "\u001B[Aerence Embeddings:  25%|██▌       | 1/4 [00:01<00:03,  1.09s/it]\n",
      "\u001B[Aerence Embeddings:  50%|█████     | 2/4 [00:01<00:01,  1.68it/s]\n",
      "\u001B[Aerence Embeddings:  75%|███████▌  | 3/4 [00:01<00:00,  2.48it/s]\n",
      "Inference Embeddings: 100%|██████████| 4/4 [00:01<00:00,  2.33it/s]\n",
      " 18%|█▊        | 2/11 [00:03<00:15,  1.72s/it]"
     ]
    },
    {
     "name": "stdout",
     "output_type": "stream",
     "text": [
      "  'dna base' -> 'genetic base' (similarity: 0.855)\n"
     ]
    },
    {
     "name": "stderr",
     "output_type": "stream",
     "text": [
      "\n",
      "pre tokenize: 100%|██████████| 4/4 [00:00<00:00, 493.75it/s]\n",
      "\n",
      "\u001B[Aerence Embeddings:   0%|          | 0/4 [00:00<?, ?it/s]\n",
      "\u001B[Aerence Embeddings:  25%|██▌       | 1/4 [00:00<00:02,  1.05it/s]\n",
      "\u001B[Aerence Embeddings:  50%|█████     | 2/4 [00:01<00:01,  1.95it/s]\n",
      "\u001B[Aerence Embeddings:  75%|███████▌  | 3/4 [00:01<00:00,  2.85it/s]\n",
      "Inference Embeddings: 100%|██████████| 4/4 [00:01<00:00,  2.67it/s]\n",
      " 27%|██▋       | 3/11 [00:04<00:13,  1.67s/it]"
     ]
    },
    {
     "name": "stdout",
     "output_type": "stream",
     "text": [
      "  'army' -> 'military' (similarity: 0.844)\n"
     ]
    },
    {
     "name": "stderr",
     "output_type": "stream",
     "text": [
      "\n",
      "pre tokenize: 100%|██████████| 4/4 [00:00<00:00, 499.86it/s]\n",
      "\n",
      "\u001B[Aerence Embeddings:   0%|          | 0/4 [00:00<?, ?it/s]\n",
      "\u001B[Aerence Embeddings:  25%|██▌       | 1/4 [00:00<00:02,  1.23it/s]\n",
      "\u001B[Aerence Embeddings:  50%|█████     | 2/4 [00:01<00:00,  2.14it/s]\n",
      "\u001B[Aerence Embeddings:  75%|███████▌  | 3/4 [00:01<00:00,  3.01it/s]\n",
      "Inference Embeddings: 100%|██████████| 4/4 [00:01<00:00,  2.88it/s]\n",
      " 36%|███▋      | 4/11 [00:06<00:11,  1.60s/it]"
     ]
    },
    {
     "name": "stdout",
     "output_type": "stream",
     "text": [
      "  'data-type' -> 'data type' (similarity: 0.956)\n"
     ]
    },
    {
     "name": "stderr",
     "output_type": "stream",
     "text": [
      "\n",
      "pre tokenize: 100%|██████████| 4/4 [00:00<00:00, 531.77it/s]\n",
      "\n",
      "\u001B[Aerence Embeddings:   0%|          | 0/4 [00:00<?, ?it/s]\n",
      "\u001B[Aerence Embeddings:  25%|██▌       | 1/4 [00:01<00:05,  1.95s/it]\n",
      "\u001B[Aerence Embeddings:  50%|█████     | 2/4 [00:02<00:01,  1.07it/s]\n",
      "\u001B[Aerence Embeddings:  75%|███████▌  | 3/4 [00:02<00:00,  1.79it/s]\n",
      "Inference Embeddings: 100%|██████████| 4/4 [00:02<00:00,  1.61it/s]\n",
      " 45%|████▌     | 5/11 [00:09<00:11,  1.96s/it]\n",
      "pre tokenize: 100%|██████████| 4/4 [00:00<00:00, 570.96it/s]\n",
      "\n",
      "\u001B[Aerence Embeddings:   0%|          | 0/4 [00:00<?, ?it/s]\n",
      "\u001B[Aerence Embeddings:  25%|██▌       | 1/4 [00:00<00:01,  1.78it/s]\n",
      "\u001B[Aerence Embeddings:  50%|█████     | 2/4 [00:00<00:00,  2.68it/s]\n",
      "\u001B[Aerence Embeddings:  75%|███████▌  | 3/4 [00:00<00:00,  3.52it/s]\n",
      "Inference Embeddings: 100%|██████████| 4/4 [00:01<00:00,  3.67it/s]\n",
      " 55%|█████▍    | 6/11 [00:10<00:08,  1.69s/it]\n",
      "pre tokenize: 100%|██████████| 4/4 [00:00<00:00, 571.47it/s]\n",
      "\n",
      "\u001B[Aerence Embeddings:   0%|          | 0/4 [00:00<?, ?it/s]\n",
      "\u001B[Aerence Embeddings:  25%|██▌       | 1/4 [00:01<00:03,  1.31s/it]\n",
      "\u001B[Aerence Embeddings:  50%|█████     | 2/4 [00:01<00:01,  1.48it/s]\n",
      "\u001B[Aerence Embeddings:  75%|███████▌  | 3/4 [00:01<00:00,  2.23it/s]\n",
      "Inference Embeddings: 100%|██████████| 4/4 [00:01<00:00,  2.09it/s]\n",
      " 64%|██████▎   | 7/11 [00:12<00:07,  1.80s/it]"
     ]
    },
    {
     "name": "stdout",
     "output_type": "stream",
     "text": [
      "  'compound class' -> 'compound' (similarity: 0.843)\n"
     ]
    },
    {
     "name": "stderr",
     "output_type": "stream",
     "text": [
      "\n",
      "pre tokenize: 100%|██████████| 4/4 [00:00<00:00, 499.96it/s]\n",
      "\n",
      "\u001B[Aerence Embeddings:   0%|          | 0/4 [00:00<?, ?it/s]\n",
      "\u001B[Aerence Embeddings:  25%|██▌       | 1/4 [00:01<00:05,  1.74s/it]\n",
      "\u001B[Aerence Embeddings:  50%|█████     | 2/4 [00:01<00:01,  1.20it/s]\n",
      "\u001B[Aerence Embeddings:  75%|███████▌  | 3/4 [00:02<00:00,  1.95it/s]\n",
      "Inference Embeddings: 100%|██████████| 4/4 [00:02<00:00,  1.75it/s]\n",
      " 73%|███████▎  | 8/11 [00:14<00:05,  1.99s/it]"
     ]
    },
    {
     "name": "stdout",
     "output_type": "stream",
     "text": [
      "  'military force' -> 'military unit' (similarity: 0.825)\n"
     ]
    },
    {
     "name": "stderr",
     "output_type": "stream",
     "text": [
      "\n",
      "pre tokenize: 100%|██████████| 4/4 [00:00<00:00, 571.55it/s]\n",
      "\n",
      "\u001B[Aerence Embeddings:   0%|          | 0/4 [00:00<?, ?it/s]\n",
      "\u001B[Aerence Embeddings:  25%|██▌       | 1/4 [00:00<00:02,  1.14it/s]\n",
      "\u001B[Aerence Embeddings:  50%|█████     | 2/4 [00:01<00:00,  2.18it/s]\n",
      "\u001B[Aerence Embeddings:  75%|███████▌  | 3/4 [00:01<00:00,  2.93it/s]\n",
      "Inference Embeddings: 100%|██████████| 4/4 [00:01<00:00,  2.72it/s]\n",
      " 82%|████████▏ | 9/11 [00:16<00:03,  1.87s/it]"
     ]
    },
    {
     "name": "stdout",
     "output_type": "stream",
     "text": [
      "  'image program' -> 'image type' (similarity: 0.806)\n"
     ]
    },
    {
     "name": "stderr",
     "output_type": "stream",
     "text": [
      "\n",
      "pre tokenize: 100%|██████████| 4/4 [00:00<00:00, 444.18it/s]\n",
      "\n",
      "\u001B[Aerence Embeddings:   0%|          | 0/4 [00:00<?, ?it/s]\n",
      "\u001B[Aerence Embeddings:  25%|██▌       | 1/4 [00:01<00:03,  1.28s/it]\n",
      "\u001B[Aerence Embeddings:  50%|█████     | 2/4 [00:01<00:01,  1.44it/s]\n",
      "\u001B[Aerence Embeddings:  75%|███████▌  | 3/4 [00:01<00:00,  2.23it/s]\n",
      "Inference Embeddings: 100%|██████████| 4/4 [00:01<00:00,  2.05it/s]\n",
      " 91%|█████████ | 10/11 [00:18<00:01,  1.93s/it]"
     ]
    },
    {
     "name": "stdout",
     "output_type": "stream",
     "text": [
      "  'duration of time' -> 'duration' (similarity: 0.921)\n"
     ]
    },
    {
     "name": "stderr",
     "output_type": "stream",
     "text": [
      "100%|██████████| 11/11 [00:18<00:00,  1.69s/it]\n"
     ]
    },
    {
     "name": "stdout",
     "output_type": "stream",
     "text": [
      "\n",
      "Total mappings created: 4523 out of 10280 rare labels\n",
      "Mapping rate: 44.0%\n"
     ]
    }
   ],
   "source": [
    "rename_dict = consolidate_ner_labels(df, min_count_threshold=10, similarity_threshold=0.80)"
   ]
  },
  {
   "cell_type": "code",
   "execution_count": 4,
   "id": "2e0ff75db3ab209f",
   "metadata": {
    "ExecuteTime": {
     "end_time": "2025-06-12T20:01:42.896542Z",
     "start_time": "2025-06-12T20:01:42.887432Z"
    }
   },
   "outputs": [],
   "source": [
    "import matplotlib.pyplot as plt\n",
    "import seaborn as sns\n",
    "\n",
    "import warnings\n",
    "warnings.filterwarnings('ignore')\n",
    "\n",
    "sns.set_style(\"whitegrid\")\n",
    "plt.rcParams['figure.dpi'] = 100\n",
    "\n",
    "# -------------------------------------------------------------------\n",
    "# Visualization\n",
    "# -------------------------------------------------------------------\n",
    "def plot_entity_distribution(df_original, df_consolidated, figsize=(15, 6)):\n",
    "    \"\"\"\n",
    "    Plot side-by-side histograms of entity count distributions.\n",
    "    \n",
    "    Args:\n",
    "        df_original: Original DataFrame with 'label' and 'count' columns\n",
    "        df_consolidated: Consolidated DataFrame with 'label' column\n",
    "        figsize: Figure size (default: (15, 6))\n",
    "    \"\"\"\n",
    "    \n",
    "    fig, (ax1, ax2) = plt.subplots(1, 2, figsize=figsize)\n",
    "    \n",
    "    max_count = max(df_original['count'].max(), df_consolidated['count'].max())\n",
    "    bins = np.logspace(0, np.log10(max_count + 1), 50)\n",
    "    \n",
    "    counts1, _, _ = ax1.hist(df_original['count'], bins=bins, alpha=0.7, color='steelblue', \n",
    "                             edgecolor='black', linewidth=0.5)\n",
    "    ax1.set_xscale('log')\n",
    "    ax1.set_yscale('log')\n",
    "    ax1.set_xlabel('Entity Count (log scale)', fontsize=12)\n",
    "    ax1.set_ylabel('Number of Entities (log scale)', fontsize=12)\n",
    "    ax1.set_title(f'Original Distribution ({df_original[\"label\"].nunique():,} unique entities)', fontsize=14, fontweight=\"bold\")\n",
    "    ax1.grid(True, alpha=0.3)\n",
    "    \n",
    "    ax1.text(0.95, 0.95, f'Entities with count=1: {(df_original[\"count\"]==1).sum():,}', \n",
    "             transform=ax1.transAxes, ha='right', va='top', fontsize=10,\n",
    "             bbox=dict(boxstyle='round', facecolor='white', alpha=0.8))\n",
    "    \n",
    "    counts2, _, _ = ax2.hist(df_consolidated['count'], bins=bins, alpha=0.7, color='darkgreen', \n",
    "                         edgecolor='black', linewidth=0.5)\n",
    "    ax2.set_xscale('log')\n",
    "    ax2.set_yscale('log')\n",
    "    ax2.set_xlabel('Entity Count (log scale)', fontsize=12)\n",
    "    ax2.set_ylabel('Number of Entities (log scale)', fontsize=12)\n",
    "    ax2.set_title(f'Consolidated Distribution ({df_consolidated[\"label\"].nunique():,} unique entities)', fontsize=14, fontweight=\"bold\")\n",
    "    ax2.grid(True, alpha=0.3)\n",
    "    \n",
    "    ax2.text(0.95, 0.95, f'Entities with count=1: {(df_consolidated[\"count\"]==1).sum():,}', \n",
    "             transform=ax2.transAxes, ha='right', va='top', fontsize=10,\n",
    "             bbox=dict(boxstyle='round', facecolor='white', alpha=0.8))\n",
    "    \n",
    "    max_y = max(counts1.max(), counts2.max())\n",
    "    y_min = 0.8\n",
    "    y_max = max_y * 1.5\n",
    "    \n",
    "    ax1.set_ylim(y_min, y_max)\n",
    "    ax2.set_ylim(y_min, y_max)\n",
    "    \n",
    "    plt.tight_layout()\n",
    "    plt.savefig(\"../output/pilener_preprocessing/entity_reduction.png\")\n",
    "    plt.show()\n",
    "    \n",
    "    print(\"\\nDistribution Summary:\")\n",
    "    print(\"=\"*50)\n",
    "    print(f\"Original: {df_original['label'].nunique():,} unique entities\")\n",
    "    print(f\"  - Singleton entities (count=1): {(df_original['count']==1).sum():,}\")\n",
    "    print(f\"  - Rare entities (count<=5): {(df_original['count']<=5).sum():,}\")\n",
    "    print(f\"  - Mean count: {df_original['count'].mean():.2f}\")\n",
    "    print(f\"  - Median count: {df_original['count'].median():.0f}\")\n",
    "    \n",
    "    print(f\"\\nConsolidated: {df_consolidated['label'].nunique():,} unique entities\")\n",
    "    print(f\"  - Singleton entities (count=1): {(df_consolidated['count']==1).sum():,}\")\n",
    "    print(f\"  - Rare entities (count<=5): {(df_consolidated['count']<=5).sum():,}\")\n",
    "    print(f\"  - Mean count: {df_consolidated['count'].mean():.2f}\")\n",
    "    print(f\"  - Median count: {df_consolidated['count'].median():.0f}\")"
   ]
  },
  {
   "cell_type": "code",
   "execution_count": 5,
   "id": "57576977784714c8",
   "metadata": {
    "ExecuteTime": {
     "end_time": "2025-06-12T20:01:43.179476Z",
     "start_time": "2025-06-12T20:01:43.172358Z"
    }
   },
   "outputs": [],
   "source": [
    "import pandas as pd\n",
    "from tqdm import tqdm\n",
    "\n",
    "# -------------------------------------------------------------------\n",
    "# Entity Renaming\n",
    "# -------------------------------------------------------------------\n",
    "def rename_entities_in_dataframe(df_train, rename_dict, batch_size=10000):\n",
    "    \"\"\"\n",
    "    Efficiently rename entities in the original dataframe based on the rename_dict.\n",
    "    \n",
    "    Args:\n",
    "        df_train: Original dataframe with 'ner' column containing entity annotations\n",
    "        rename_dict: Dictionary mapping rare labels to frequent labels\n",
    "        batch_size: Number of rows to process at once for memory efficiency\n",
    "    \n",
    "    Returns:\n",
    "        DataFrame with renamed entities\n",
    "    \"\"\"\n",
    "    \n",
    "    df_renamed = df_train.copy()\n",
    "    \n",
    "    rename_dict_lower = {k.lower(): v for k, v in rename_dict.items()}\n",
    "    \n",
    "    def rename_entities_in_row(ner_annotations):\n",
    "        \"\"\"Process a single row's NER annotations\"\"\"\n",
    "        if not isinstance(ner_annotations, list):\n",
    "            return ner_annotations\n",
    "        \n",
    "        renamed_annotations = []\n",
    "        for annotation in ner_annotations:\n",
    "            if len(annotation) >= 3:\n",
    "                new_annotation = list(annotation)\n",
    "                label = annotation[2]\n",
    "                label_lower = label.lower()\n",
    "                \n",
    "                if label_lower in rename_dict_lower:\n",
    "                    new_annotation[2] = rename_dict_lower[label_lower]\n",
    "                \n",
    "                renamed_annotations.append(new_annotation)\n",
    "            else:\n",
    "                renamed_annotations.append(annotation)\n",
    "        \n",
    "        return renamed_annotations\n",
    "    \n",
    "    print(f\"Renaming entities in {len(df_renamed)} rows...\")\n",
    "    \n",
    "    if len(df_renamed) > batch_size:\n",
    "        for i in tqdm(range(0, len(df_renamed), batch_size)):\n",
    "            end_idx = min(i + batch_size, len(df_renamed))\n",
    "            df_renamed.loc[i:end_idx-1, 'ner'] = df_renamed.loc[i:end_idx-1, 'ner'].apply(rename_entities_in_row)\n",
    "    else:\n",
    "        df_renamed['ner'] = df_renamed['ner'].apply(rename_entities_in_row)\n",
    "    \n",
    "    return df_renamed"
   ]
  },
  {
   "cell_type": "code",
   "execution_count": 7,
   "id": "8d47973f206f2df9",
   "metadata": {
    "ExecuteTime": {
     "end_time": "2025-06-12T20:03:08.123533Z",
     "start_time": "2025-06-12T20:03:01.859240Z"
    }
   },
   "outputs": [
    {
     "name": "stdout",
     "output_type": "stream",
     "text": [
      "Renaming entities in 45889 rows...\n"
     ]
    },
    {
     "name": "stderr",
     "output_type": "stream",
     "text": [
      "100%|██████████| 5/5 [00:01<00:00,  2.73it/s]"
     ]
    },
    {
     "name": "stdout",
     "output_type": "stream",
     "text": [
      "\n",
      "Verifying renaming...\n",
      "Original dataframe shape: (45889, 3)\n",
      "Renamed dataframe shape: (45889, 3)\n"
     ]
    },
    {
     "name": "stderr",
     "output_type": "stream",
     "text": [
      "\n"
     ]
    }
   ],
   "source": [
    "df_train_renamed = rename_entities_in_dataframe(df_train, rename_dict)\n",
    "\n",
    "print(\"\\nVerifying renaming...\")\n",
    "print(f\"Original dataframe shape: {df_train.shape}\")\n",
    "print(f\"Renamed dataframe shape: {df_train_renamed.shape}\")"
   ]
  },
  {
   "cell_type": "code",
   "execution_count": 8,
   "id": "a6728de53a667780",
   "metadata": {
    "ExecuteTime": {
     "end_time": "2025-06-12T20:03:29.825439Z",
     "start_time": "2025-06-12T20:03:10.040334Z"
    }
   },
   "outputs": [
    {
     "name": "stdout",
     "output_type": "stream",
     "text": [
      "\n",
      "Unique labels before: 12620\n",
      "Unique labels after: 8097\n",
      "Reduction: 4523 labels\n"
     ]
    }
   ],
   "source": [
    "label_counter_after = Counter()\n",
    "for idx, entry in df_train_renamed.iterrows():\n",
    "    ner_string = entry.ner\n",
    "    for annotation in ner_string:\n",
    "        if len(annotation) >= 3:\n",
    "            label = annotation[2]\n",
    "            label_lower = label.lower()\n",
    "            label_counter_after[label_lower] += 1\n",
    "\n",
    "df_after = pd.DataFrame.from_dict(label_counter_after, orient='index', columns=[\"count\"]).reset_index().rename(columns={\"index\": \"label\"})\n",
    "print(f\"\\nUnique labels before: {len(label_counter)}\")\n",
    "print(f\"Unique labels after: {len(label_counter_after)}\")\n",
    "print(f\"Reduction: {len(label_counter) - len(label_counter_after)} labels\")"
   ]
  },
  {
   "cell_type": "code",
   "execution_count": 9,
   "id": "b8534551e6ea97d5",
   "metadata": {
    "ExecuteTime": {
     "end_time": "2025-06-12T20:03:31.253547Z",
     "start_time": "2025-06-12T20:03:29.900701Z"
    }
   },
   "outputs": [
    {
     "data": {
      "image/png": "[encoded data removed]",
      "text/plain": [
       "<Figure size 1500x600 with 2 Axes>"
      ]
     },
     "metadata": {},
     "output_type": "display_data"
    },
    {
     "name": "stdout",
     "output_type": "stream",
     "text": [
      "\n",
      "Distribution Summary:\n",
      "==================================================\n",
      "Original: 12,620 unique entities\n",
      "  - Singleton entities (count=1): 4,153\n",
      "  - Rare entities (count<=5): 8,762\n",
      "  - Mean count: 74.46\n",
      "  - Median count: 3\n",
      "\n",
      "Consolidated: 8,097 unique entities\n",
      "  - Singleton entities (count=1): 2,487\n",
      "  - Rare entities (count<=5): 5,014\n",
      "  - Mean count: 116.05\n",
      "  - Median count: 3\n"
     ]
    }
   ],
   "source": [
    "# Visualization\n",
    "plot_entity_distribution(df, df_after)"
   ]
  },
  {
   "cell_type": "code",
   "execution_count": 10,
   "id": "554de19fc7a4aa6c",
   "metadata": {
    "ExecuteTime": {
     "end_time": "2025-06-12T20:03:46.027295Z",
     "start_time": "2025-06-12T20:03:41.229693Z"
    }
   },
   "outputs": [],
   "source": [
    "# -------------------------------------------------------------------\n",
    "# Serializing Cleaned Training Data\n",
    "# -------------------------------------------------------------------\n",
    "df_train_renamed.to_json(\"nuner_preprocessed_augmented.json\",orient=\"records\")"
   ]
  }
 ],
 "metadata": {
  "kernelspec": {
   "display_name": "Python (my_custom_env)",
   "language": "python",
   "name": "my_custom_env"
  },
  "language_info": {
   "codemirror_mode": {
    "name": "ipython",
    "version": 3
   },
   "file_extension": ".py",
   "mimetype": "text/x-python",
   "name": "python",
   "nbconvert_exporter": "python",
   "pygments_lexer": "ipython3",
   "version": "3.12.3"
  }
 },
 "nbformat": 4,
 "nbformat_minor": 5
}
