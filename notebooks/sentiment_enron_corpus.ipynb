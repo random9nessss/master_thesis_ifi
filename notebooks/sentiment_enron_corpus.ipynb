{
 "cells": [
  {
   "cell_type": "code",
   "id": "initial_id",
   "metadata": {
    "collapsed": true,
    "ExecuteTime": {
     "end_time": "2025-07-10T14:16:36.658671Z",
     "start_time": "2025-07-10T14:11:34.920687Z"
    }
   },
   "source": [
    "import os\n",
    "import pandas as pd\n",
    "from pathlib import Path\n",
    "\n",
    "from analytics.sentiment_analysis import EnsembleSentimentAnalysisCSV\n",
    "enron_file_path = \"../data/email_datasets/enron/enron_processed_condensed.csv\"\n",
    "\n",
    "analyzer = EnsembleSentimentAnalysisCSV(\n",
    "    file_path=enron_file_path,\n",
    "    content_column=\"parsed_content\"\n",
    ")\n",
    "\n",
    "print(\"Computing overall sentiment for Enron corpus...\")\n",
    "overall_sentiment = analyzer.compute_sentiment()\n",
    "print(\"\\nOverall Sentiment Distribution:\")\n",
    "print(f\"Negative: {overall_sentiment['sentiment_neg']:.3f}\")\n",
    "print(f\"Neutral: {overall_sentiment['sentiment_neu']:.3f}\")\n",
    "print(f\"Positive: {overall_sentiment['sentiment_pos']:.3f}\")\n",
    "\n",
    "individual_sentiments = analyzer.get_individual_sentiments()\n",
    "print(f\"\\nAnalyzed {len(individual_sentiments)} emails individually\")\n",
    "\n",
    "output_path = analyzer.save_sentiment_distribution(\n",
    "    output_dir=\"output/enron_sentiment_distribution\"\n",
    ")\n",
    "print(f\"\\nIndividual sentiment scores saved to: {output_path}\")\n",
    "\n",
    "sentiment_df = pd.DataFrame(individual_sentiments)\n",
    "\n",
    "print(\"\\nSentiment Statistics:\")\n",
    "print(f\"Average Negative Sentiment: {sentiment_df['sentiment_neg'].mean():.3f}\")\n",
    "print(f\"Average Neutral Sentiment: {sentiment_df['sentiment_neu'].mean():.3f}\")\n",
    "print(f\"Average Positive Sentiment: {sentiment_df['sentiment_pos'].mean():.3f}\")\n",
    "\n",
    "print(\"\\nSentiment Distribution Analysis:\")\n",
    "print(f\"Emails with dominant negative sentiment (>0.5): {(sentiment_df['sentiment_neg'] > 0.5).sum()}\")\n",
    "print(f\"Emails with dominant neutral sentiment (>0.5): {(sentiment_df['sentiment_neu'] > 0.5).sum()}\")\n",
    "print(f\"Emails with dominant positive sentiment (>0.5): {(sentiment_df['sentiment_pos'] > 0.5).sum()}\")"
   ],
   "outputs": [
    {
     "name": "stderr",
     "output_type": "stream",
     "text": [
      "C:\\Users\\brk.ch\\AppData\\Roaming\\Python\\Python312\\site-packages\\tqdm\\auto.py:21: TqdmWarning: IProgress not found. Please update jupyter and ipywidgets. See https://ipywidgets.readthedocs.io/en/stable/user_install.html\n",
      "  from .autonotebook import tqdm as notebook_tqdm\n",
      "C:\\Users\\brk.ch\\AppData\\Roaming\\Python\\Python312\\site-packages\\triton\\windows_utils.py:372: UserWarning: Failed to find CUDA.\n",
      "  warnings.warn(\"Failed to find CUDA.\")\n"
     ]
    },
    {
     "name": "stdout",
     "output_type": "stream",
     "text": [
      "Computing overall sentiment for Enron corpus...\n",
      "\n",
      "Overall Sentiment Distribution:\n",
      "Negative: 0.057\n",
      "Neutral: 0.257\n",
      "Positive: 0.686\n",
      "\n",
      "Analyzed 4956 emails individually\n",
      "\n",
      "Individual sentiment scores saved to: output/enron_sentiment_distribution\\sentiment_distribution_unknown_unknown.csv\n",
      "\n",
      "Sentiment Statistics:\n",
      "Average Negative Sentiment: 0.283\n",
      "Average Neutral Sentiment: 0.271\n",
      "Average Positive Sentiment: 0.447\n",
      "\n",
      "Sentiment Distribution Analysis:\n",
      "Emails with dominant negative sentiment (>0.5): 1233\n",
      "Emails with dominant neutral sentiment (>0.5): 1352\n",
      "Emails with dominant positive sentiment (>0.5): 2180\n"
     ]
    }
   ],
   "execution_count": 3
  },
  {
   "metadata": {},
   "cell_type": "code",
   "outputs": [],
   "execution_count": null,
   "source": "",
   "id": "a4034ec3bb2266f9"
  }
 ],
 "metadata": {
  "kernelspec": {
   "display_name": "Python 3.12",
   "language": "python",
   "name": "python312"
  },
  "language_info": {
   "codemirror_mode": {
    "name": "ipython",
    "version": 2
   },
   "file_extension": ".py",
   "mimetype": "text/x-python",
   "name": "python",
   "nbconvert_exporter": "python",
   "pygments_lexer": "ipython2",
   "version": "2.7.6"
  }
 },
 "nbformat": 4,
 "nbformat_minor": 5
}
